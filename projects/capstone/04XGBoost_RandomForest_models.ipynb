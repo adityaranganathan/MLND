{
 "cells": [
  {
   "cell_type": "code",
   "execution_count": 1,
   "metadata": {
    "collapsed": false
   },
   "outputs": [
    {
     "name": "stderr",
     "output_type": "stream",
     "text": [
      "C:\\Users\\Aditya\\Anaconda2\\envs\\tensorflow_win\\lib\\site-packages\\sklearn\\cross_validation.py:41: DeprecationWarning: This module was deprecated in version 0.18 in favor of the model_selection module into which all the refactored classes and functions are moved. Also note that the interface of the new CV iterators are different from that of this module. This module will be removed in 0.20.\n",
      "  \"This module will be removed in 0.20.\", DeprecationWarning)\n"
     ]
    }
   ],
   "source": [
    "import xgboost as xgb\n",
    "import numpy as np\n",
    "import pandas as pd\n",
    "import matplotlib.pyplot as plt\n",
    "from sklearn.model_selection import  train_test_split\n",
    "from sklearn.metrics import mean_squared_error, r2_score\n",
    "\n",
    "pd.set_option('display.max_columns', None) \n",
    "plt.rcParams['figure.figsize'] = [16, 10]"
   ]
  },
  {
   "cell_type": "code",
   "execution_count": 2,
   "metadata": {
    "collapsed": true
   },
   "outputs": [],
   "source": [
    "data = pd.read_csv(\"new_train.csv\")"
   ]
  },
  {
   "cell_type": "code",
   "execution_count": 3,
   "metadata": {
    "collapsed": false
   },
   "outputs": [
    {
     "data": {
      "text/html": [
       "<div>\n",
       "<style>\n",
       "    .dataframe thead tr:only-child th {\n",
       "        text-align: right;\n",
       "    }\n",
       "\n",
       "    .dataframe thead th {\n",
       "        text-align: left;\n",
       "    }\n",
       "\n",
       "    .dataframe tbody tr th {\n",
       "        vertical-align: top;\n",
       "    }\n",
       "</style>\n",
       "<table border=\"1\" class=\"dataframe\">\n",
       "  <thead>\n",
       "    <tr style=\"text-align: right;\">\n",
       "      <th></th>\n",
       "      <th>vendor_id</th>\n",
       "      <th>passenger_count</th>\n",
       "      <th>pickup_longitude</th>\n",
       "      <th>pickup_latitude</th>\n",
       "      <th>dropoff_longitude</th>\n",
       "      <th>dropoff_latitude</th>\n",
       "      <th>trip_duration</th>\n",
       "      <th>pickup_month</th>\n",
       "      <th>pickup_dayofweek</th>\n",
       "      <th>pickup_hour</th>\n",
       "      <th>pickup_day</th>\n",
       "      <th>pickup_second</th>\n",
       "      <th>maximum temerature</th>\n",
       "      <th>minimum temperature</th>\n",
       "      <th>average temperature</th>\n",
       "      <th>precipitation</th>\n",
       "      <th>snow fall</th>\n",
       "      <th>snow depth</th>\n",
       "      <th>log_trip_duration</th>\n",
       "      <th>distance</th>\n",
       "      <th>pickup_cluster</th>\n",
       "      <th>dropoff_cluster</th>\n",
       "      <th>fwd_N</th>\n",
       "      <th>fwd_Y</th>\n",
       "    </tr>\n",
       "  </thead>\n",
       "  <tbody>\n",
       "    <tr>\n",
       "      <th>0</th>\n",
       "      <td>2</td>\n",
       "      <td>1</td>\n",
       "      <td>-73.982155</td>\n",
       "      <td>40.767937</td>\n",
       "      <td>-73.964630</td>\n",
       "      <td>40.765602</td>\n",
       "      <td>455</td>\n",
       "      <td>3</td>\n",
       "      <td>0</td>\n",
       "      <td>17</td>\n",
       "      <td>14</td>\n",
       "      <td>6369878.0</td>\n",
       "      <td>51</td>\n",
       "      <td>40</td>\n",
       "      <td>45.5</td>\n",
       "      <td>0.29</td>\n",
       "      <td>0.0</td>\n",
       "      <td>0.0</td>\n",
       "      <td>6.120297</td>\n",
       "      <td>1.502172</td>\n",
       "      <td>12</td>\n",
       "      <td>18</td>\n",
       "      <td>1</td>\n",
       "      <td>0</td>\n",
       "    </tr>\n",
       "    <tr>\n",
       "      <th>1</th>\n",
       "      <td>1</td>\n",
       "      <td>1</td>\n",
       "      <td>-73.975090</td>\n",
       "      <td>40.758766</td>\n",
       "      <td>-73.953201</td>\n",
       "      <td>40.765068</td>\n",
       "      <td>1346</td>\n",
       "      <td>3</td>\n",
       "      <td>0</td>\n",
       "      <td>14</td>\n",
       "      <td>14</td>\n",
       "      <td>6357922.0</td>\n",
       "      <td>51</td>\n",
       "      <td>40</td>\n",
       "      <td>45.5</td>\n",
       "      <td>0.29</td>\n",
       "      <td>0.0</td>\n",
       "      <td>0.0</td>\n",
       "      <td>7.204893</td>\n",
       "      <td>1.976279</td>\n",
       "      <td>0</td>\n",
       "      <td>18</td>\n",
       "      <td>1</td>\n",
       "      <td>0</td>\n",
       "    </tr>\n",
       "    <tr>\n",
       "      <th>2</th>\n",
       "      <td>1</td>\n",
       "      <td>1</td>\n",
       "      <td>-73.994484</td>\n",
       "      <td>40.745087</td>\n",
       "      <td>-73.998993</td>\n",
       "      <td>40.722710</td>\n",
       "      <td>695</td>\n",
       "      <td>3</td>\n",
       "      <td>0</td>\n",
       "      <td>15</td>\n",
       "      <td>14</td>\n",
       "      <td>6361461.0</td>\n",
       "      <td>51</td>\n",
       "      <td>40</td>\n",
       "      <td>45.5</td>\n",
       "      <td>0.29</td>\n",
       "      <td>0.0</td>\n",
       "      <td>0.0</td>\n",
       "      <td>6.543912</td>\n",
       "      <td>2.513961</td>\n",
       "      <td>8</td>\n",
       "      <td>16</td>\n",
       "      <td>1</td>\n",
       "      <td>0</td>\n",
       "    </tr>\n",
       "    <tr>\n",
       "      <th>3</th>\n",
       "      <td>2</td>\n",
       "      <td>3</td>\n",
       "      <td>-73.944359</td>\n",
       "      <td>40.714489</td>\n",
       "      <td>-73.910530</td>\n",
       "      <td>40.709492</td>\n",
       "      <td>755</td>\n",
       "      <td>3</td>\n",
       "      <td>0</td>\n",
       "      <td>4</td>\n",
       "      <td>14</td>\n",
       "      <td>6323059.0</td>\n",
       "      <td>51</td>\n",
       "      <td>40</td>\n",
       "      <td>45.5</td>\n",
       "      <td>0.29</td>\n",
       "      <td>0.0</td>\n",
       "      <td>0.0</td>\n",
       "      <td>6.626718</td>\n",
       "      <td>2.911908</td>\n",
       "      <td>7</td>\n",
       "      <td>7</td>\n",
       "      <td>1</td>\n",
       "      <td>0</td>\n",
       "    </tr>\n",
       "    <tr>\n",
       "      <th>4</th>\n",
       "      <td>2</td>\n",
       "      <td>1</td>\n",
       "      <td>-73.952881</td>\n",
       "      <td>40.766468</td>\n",
       "      <td>-73.978630</td>\n",
       "      <td>40.761921</td>\n",
       "      <td>1050</td>\n",
       "      <td>3</td>\n",
       "      <td>0</td>\n",
       "      <td>14</td>\n",
       "      <td>14</td>\n",
       "      <td>6361059.0</td>\n",
       "      <td>51</td>\n",
       "      <td>40</td>\n",
       "      <td>45.5</td>\n",
       "      <td>0.29</td>\n",
       "      <td>0.0</td>\n",
       "      <td>0.0</td>\n",
       "      <td>6.956545</td>\n",
       "      <td>2.231986</td>\n",
       "      <td>18</td>\n",
       "      <td>12</td>\n",
       "      <td>1</td>\n",
       "      <td>0</td>\n",
       "    </tr>\n",
       "  </tbody>\n",
       "</table>\n",
       "</div>"
      ],
      "text/plain": [
       "   vendor_id  passenger_count  pickup_longitude  pickup_latitude  \\\n",
       "0          2                1        -73.982155        40.767937   \n",
       "1          1                1        -73.975090        40.758766   \n",
       "2          1                1        -73.994484        40.745087   \n",
       "3          2                3        -73.944359        40.714489   \n",
       "4          2                1        -73.952881        40.766468   \n",
       "\n",
       "   dropoff_longitude  dropoff_latitude  trip_duration  pickup_month  \\\n",
       "0         -73.964630         40.765602            455             3   \n",
       "1         -73.953201         40.765068           1346             3   \n",
       "2         -73.998993         40.722710            695             3   \n",
       "3         -73.910530         40.709492            755             3   \n",
       "4         -73.978630         40.761921           1050             3   \n",
       "\n",
       "   pickup_dayofweek  pickup_hour  pickup_day  pickup_second  \\\n",
       "0                 0           17          14      6369878.0   \n",
       "1                 0           14          14      6357922.0   \n",
       "2                 0           15          14      6361461.0   \n",
       "3                 0            4          14      6323059.0   \n",
       "4                 0           14          14      6361059.0   \n",
       "\n",
       "   maximum temerature  minimum temperature  average temperature  \\\n",
       "0                  51                   40                 45.5   \n",
       "1                  51                   40                 45.5   \n",
       "2                  51                   40                 45.5   \n",
       "3                  51                   40                 45.5   \n",
       "4                  51                   40                 45.5   \n",
       "\n",
       "   precipitation  snow fall  snow depth  log_trip_duration  distance  \\\n",
       "0           0.29        0.0         0.0           6.120297  1.502172   \n",
       "1           0.29        0.0         0.0           7.204893  1.976279   \n",
       "2           0.29        0.0         0.0           6.543912  2.513961   \n",
       "3           0.29        0.0         0.0           6.626718  2.911908   \n",
       "4           0.29        0.0         0.0           6.956545  2.231986   \n",
       "\n",
       "   pickup_cluster  dropoff_cluster  fwd_N  fwd_Y  \n",
       "0              12               18      1      0  \n",
       "1               0               18      1      0  \n",
       "2               8               16      1      0  \n",
       "3               7                7      1      0  \n",
       "4              18               12      1      0  "
      ]
     },
     "execution_count": 3,
     "metadata": {},
     "output_type": "execute_result"
    }
   ],
   "source": [
    "data.head()"
   ]
  },
  {
   "cell_type": "code",
   "execution_count": 4,
   "metadata": {
    "collapsed": false
   },
   "outputs": [
    {
     "data": {
      "text/html": [
       "<div>\n",
       "<style>\n",
       "    .dataframe thead tr:only-child th {\n",
       "        text-align: right;\n",
       "    }\n",
       "\n",
       "    .dataframe thead th {\n",
       "        text-align: left;\n",
       "    }\n",
       "\n",
       "    .dataframe tbody tr th {\n",
       "        vertical-align: top;\n",
       "    }\n",
       "</style>\n",
       "<table border=\"1\" class=\"dataframe\">\n",
       "  <thead>\n",
       "    <tr style=\"text-align: right;\">\n",
       "      <th></th>\n",
       "      <th>vendor_id</th>\n",
       "      <th>passenger_count</th>\n",
       "      <th>pickup_longitude</th>\n",
       "      <th>pickup_latitude</th>\n",
       "      <th>dropoff_longitude</th>\n",
       "      <th>dropoff_latitude</th>\n",
       "      <th>pickup_month</th>\n",
       "      <th>pickup_dayofweek</th>\n",
       "      <th>pickup_hour</th>\n",
       "      <th>pickup_day</th>\n",
       "      <th>pickup_second</th>\n",
       "      <th>maximum temerature</th>\n",
       "      <th>minimum temperature</th>\n",
       "      <th>average temperature</th>\n",
       "      <th>precipitation</th>\n",
       "      <th>snow fall</th>\n",
       "      <th>snow depth</th>\n",
       "      <th>distance</th>\n",
       "      <th>pickup_cluster</th>\n",
       "      <th>dropoff_cluster</th>\n",
       "      <th>fwd_N</th>\n",
       "      <th>fwd_Y</th>\n",
       "    </tr>\n",
       "  </thead>\n",
       "  <tbody>\n",
       "    <tr>\n",
       "      <th>0</th>\n",
       "      <td>2</td>\n",
       "      <td>1</td>\n",
       "      <td>-73.982155</td>\n",
       "      <td>40.767937</td>\n",
       "      <td>-73.964630</td>\n",
       "      <td>40.765602</td>\n",
       "      <td>3</td>\n",
       "      <td>0</td>\n",
       "      <td>17</td>\n",
       "      <td>14</td>\n",
       "      <td>6369878.0</td>\n",
       "      <td>51</td>\n",
       "      <td>40</td>\n",
       "      <td>45.5</td>\n",
       "      <td>0.29</td>\n",
       "      <td>0.0</td>\n",
       "      <td>0.0</td>\n",
       "      <td>1.502172</td>\n",
       "      <td>12</td>\n",
       "      <td>18</td>\n",
       "      <td>1</td>\n",
       "      <td>0</td>\n",
       "    </tr>\n",
       "    <tr>\n",
       "      <th>1</th>\n",
       "      <td>1</td>\n",
       "      <td>1</td>\n",
       "      <td>-73.975090</td>\n",
       "      <td>40.758766</td>\n",
       "      <td>-73.953201</td>\n",
       "      <td>40.765068</td>\n",
       "      <td>3</td>\n",
       "      <td>0</td>\n",
       "      <td>14</td>\n",
       "      <td>14</td>\n",
       "      <td>6357922.0</td>\n",
       "      <td>51</td>\n",
       "      <td>40</td>\n",
       "      <td>45.5</td>\n",
       "      <td>0.29</td>\n",
       "      <td>0.0</td>\n",
       "      <td>0.0</td>\n",
       "      <td>1.976279</td>\n",
       "      <td>0</td>\n",
       "      <td>18</td>\n",
       "      <td>1</td>\n",
       "      <td>0</td>\n",
       "    </tr>\n",
       "    <tr>\n",
       "      <th>2</th>\n",
       "      <td>1</td>\n",
       "      <td>1</td>\n",
       "      <td>-73.994484</td>\n",
       "      <td>40.745087</td>\n",
       "      <td>-73.998993</td>\n",
       "      <td>40.722710</td>\n",
       "      <td>3</td>\n",
       "      <td>0</td>\n",
       "      <td>15</td>\n",
       "      <td>14</td>\n",
       "      <td>6361461.0</td>\n",
       "      <td>51</td>\n",
       "      <td>40</td>\n",
       "      <td>45.5</td>\n",
       "      <td>0.29</td>\n",
       "      <td>0.0</td>\n",
       "      <td>0.0</td>\n",
       "      <td>2.513961</td>\n",
       "      <td>8</td>\n",
       "      <td>16</td>\n",
       "      <td>1</td>\n",
       "      <td>0</td>\n",
       "    </tr>\n",
       "    <tr>\n",
       "      <th>3</th>\n",
       "      <td>2</td>\n",
       "      <td>3</td>\n",
       "      <td>-73.944359</td>\n",
       "      <td>40.714489</td>\n",
       "      <td>-73.910530</td>\n",
       "      <td>40.709492</td>\n",
       "      <td>3</td>\n",
       "      <td>0</td>\n",
       "      <td>4</td>\n",
       "      <td>14</td>\n",
       "      <td>6323059.0</td>\n",
       "      <td>51</td>\n",
       "      <td>40</td>\n",
       "      <td>45.5</td>\n",
       "      <td>0.29</td>\n",
       "      <td>0.0</td>\n",
       "      <td>0.0</td>\n",
       "      <td>2.911908</td>\n",
       "      <td>7</td>\n",
       "      <td>7</td>\n",
       "      <td>1</td>\n",
       "      <td>0</td>\n",
       "    </tr>\n",
       "    <tr>\n",
       "      <th>4</th>\n",
       "      <td>2</td>\n",
       "      <td>1</td>\n",
       "      <td>-73.952881</td>\n",
       "      <td>40.766468</td>\n",
       "      <td>-73.978630</td>\n",
       "      <td>40.761921</td>\n",
       "      <td>3</td>\n",
       "      <td>0</td>\n",
       "      <td>14</td>\n",
       "      <td>14</td>\n",
       "      <td>6361059.0</td>\n",
       "      <td>51</td>\n",
       "      <td>40</td>\n",
       "      <td>45.5</td>\n",
       "      <td>0.29</td>\n",
       "      <td>0.0</td>\n",
       "      <td>0.0</td>\n",
       "      <td>2.231986</td>\n",
       "      <td>18</td>\n",
       "      <td>12</td>\n",
       "      <td>1</td>\n",
       "      <td>0</td>\n",
       "    </tr>\n",
       "  </tbody>\n",
       "</table>\n",
       "</div>"
      ],
      "text/plain": [
       "   vendor_id  passenger_count  pickup_longitude  pickup_latitude  \\\n",
       "0          2                1        -73.982155        40.767937   \n",
       "1          1                1        -73.975090        40.758766   \n",
       "2          1                1        -73.994484        40.745087   \n",
       "3          2                3        -73.944359        40.714489   \n",
       "4          2                1        -73.952881        40.766468   \n",
       "\n",
       "   dropoff_longitude  dropoff_latitude  pickup_month  pickup_dayofweek  \\\n",
       "0         -73.964630         40.765602             3                 0   \n",
       "1         -73.953201         40.765068             3                 0   \n",
       "2         -73.998993         40.722710             3                 0   \n",
       "3         -73.910530         40.709492             3                 0   \n",
       "4         -73.978630         40.761921             3                 0   \n",
       "\n",
       "   pickup_hour  pickup_day  pickup_second  maximum temerature  \\\n",
       "0           17          14      6369878.0                  51   \n",
       "1           14          14      6357922.0                  51   \n",
       "2           15          14      6361461.0                  51   \n",
       "3            4          14      6323059.0                  51   \n",
       "4           14          14      6361059.0                  51   \n",
       "\n",
       "   minimum temperature  average temperature  precipitation  snow fall  \\\n",
       "0                   40                 45.5           0.29        0.0   \n",
       "1                   40                 45.5           0.29        0.0   \n",
       "2                   40                 45.5           0.29        0.0   \n",
       "3                   40                 45.5           0.29        0.0   \n",
       "4                   40                 45.5           0.29        0.0   \n",
       "\n",
       "   snow depth  distance  pickup_cluster  dropoff_cluster  fwd_N  fwd_Y  \n",
       "0         0.0  1.502172              12               18      1      0  \n",
       "1         0.0  1.976279               0               18      1      0  \n",
       "2         0.0  2.513961               8               16      1      0  \n",
       "3         0.0  2.911908               7                7      1      0  \n",
       "4         0.0  2.231986              18               12      1      0  "
      ]
     },
     "execution_count": 4,
     "metadata": {},
     "output_type": "execute_result"
    }
   ],
   "source": [
    "train = data.drop(['trip_duration', 'log_trip_duration' ],axis=1)\n",
    "train.head()"
   ]
  },
  {
   "cell_type": "code",
   "execution_count": 5,
   "metadata": {
    "collapsed": true
   },
   "outputs": [],
   "source": [
    "def rmsle(real, predicted): # Calculating RMSLE\n",
    "    sum=0.0\n",
    "    for x in range(len(predicted)):\n",
    "        p = np.log(predicted[x]+1)\n",
    "        r = np.log(real[x]+1)\n",
    "        sum = sum + (p - r)**2\n",
    "    return (sum/len(predicted))**0.5"
   ]
  },
  {
   "cell_type": "code",
   "execution_count": 6,
   "metadata": {
    "collapsed": false
   },
   "outputs": [],
   "source": [
    "X_train, X_valid, y_train, y_valid = train_test_split(train, data['log_trip_duration'], test_size=0.2, random_state=43)"
   ]
  },
  {
   "cell_type": "code",
   "execution_count": 7,
   "metadata": {
    "collapsed": false
   },
   "outputs": [
    {
     "name": "stdout",
     "output_type": "stream",
     "text": [
      "[0]\ttrain-rmse:4.23078\tvalid-rmse:4.23275\n",
      "Multiple eval metrics have been passed: 'valid-rmse' will be used for early stopping.\n",
      "\n",
      "Will train until valid-rmse hasn't improved in 50 rounds.\n",
      "[20]\ttrain-rmse:0.399653\tvalid-rmse:0.407648\n",
      "[40]\ttrain-rmse:0.367328\tvalid-rmse:0.380701\n",
      "[60]\ttrain-rmse:0.352483\tvalid-rmse:0.370594\n",
      "[80]\ttrain-rmse:0.343777\tvalid-rmse:0.365853\n",
      "[100]\ttrain-rmse:0.338327\tvalid-rmse:0.364284\n",
      "[120]\ttrain-rmse:0.333235\tvalid-rmse:0.362594\n",
      "[140]\ttrain-rmse:0.32932\tvalid-rmse:0.362199\n",
      "[160]\ttrain-rmse:0.325897\tvalid-rmse:0.361295\n",
      "[180]\ttrain-rmse:0.322278\tvalid-rmse:0.359939\n"
     ]
    }
   ],
   "source": [
    "dtrain = xgb.DMatrix(X_train, label=y_train)  #Converting data and specifying hyperparameters and training\n",
    "dvalid = xgb.DMatrix(X_valid, label=y_valid)\n",
    "watchlist = [(dtrain, 'train'), (dvalid, 'valid')]\n",
    "\n",
    "params = {}\n",
    "params[\"objective\"] = \"reg:linear\"\n",
    "params[\"eta\"] = 0.3\n",
    "params[\"min_child_weight\"] = 30\n",
    "params[\"subsample\"] = 0.8\n",
    "params[\"colsample_bytree\"] = 0.3\n",
    "params[\"scale_pos_weight\"] = 1.0\n",
    "params[\"silent\"] = 1\n",
    "params[\"booster\"] = \"gbtree\"\n",
    "params[\"max_depth\"] = 10\n",
    "params[\"eval_metric\"]= \"rmse\"\n",
    "\n",
    "\n",
    "plst = list(params.items())\n",
    "\n",
    "model = xgb.train(plst, dtrain, 200, watchlist, early_stopping_rounds=50, maximize=False, \n",
    "                  verbose_eval=20)"
   ]
  },
  {
   "cell_type": "code",
   "execution_count": null,
   "metadata": {
    "collapsed": true
   },
   "outputs": [],
   "source": []
  },
  {
   "cell_type": "code",
   "execution_count": 8,
   "metadata": {
    "collapsed": true
   },
   "outputs": [],
   "source": [
    "dtest = xgb.DMatrix(X_valid)\n",
    "pred = np.abs(model.predict(dtest))"
   ]
  },
  {
   "cell_type": "code",
   "execution_count": 9,
   "metadata": {
    "collapsed": false
   },
   "outputs": [
    {
     "name": "stdout",
     "output_type": "stream",
     "text": [
      "0.357141690279\n",
      "297.670262144\n",
      "0.789962120709\n"
     ]
    }
   ],
   "source": [
    "print(\"RMSLE =\",rmsle(np.exp(y_valid.values), np.exp(pred)))   #displaying cv scores\n",
    "print(\"RMSE =\",np.sqrt(mean_squared_error(np.exp(y_valid),np.exp(pred))))\n",
    "print(\"r2_score =\",r2_score(np.exp(y_valid), np.exp(pred)))"
   ]
  },
  {
   "cell_type": "code",
   "execution_count": 10,
   "metadata": {
    "collapsed": false
   },
   "outputs": [
    {
     "data": {
      "image/png": "[encoded data removed]",
      "text/plain": [
       "<matplotlib.figure.Figure at 0xbd2de89d68>"
      ]
     },
     "metadata": {},
     "output_type": "display_data"
    }
   ],
   "source": [
    "xgb.plot_importance(model) #Displaying feature importances\n",
    "plt.show()"
   ]
  },
  {
   "cell_type": "code",
   "execution_count": 11,
   "metadata": {
    "collapsed": true
   },
   "outputs": [],
   "source": [
    "testd  = pd.read_csv(\"new_test.csv\") "
   ]
  },
  {
   "cell_type": "code",
   "execution_count": 12,
   "metadata": {
    "collapsed": true
   },
   "outputs": [],
   "source": [
    "ids = testd['id']"
   ]
  },
  {
   "cell_type": "code",
   "execution_count": 13,
   "metadata": {
    "collapsed": false
   },
   "outputs": [],
   "source": [
    "testd.head()\n",
    "test = testd.drop(['id'], axis=1)"
   ]
  },
  {
   "cell_type": "code",
   "execution_count": 14,
   "metadata": {
    "collapsed": true
   },
   "outputs": [],
   "source": [
    "dtest = xgb.DMatrix(test)\n",
    "pred = np.abs(model.predict(dtest))"
   ]
  },
  {
   "cell_type": "code",
   "execution_count": 15,
   "metadata": {
    "collapsed": true
   },
   "outputs": [],
   "source": [
    "submission = pd.DataFrame({'id': ids, 'trip_duration': np.exp(pred)}) #Predicting on kaggle test data\n",
    "submission.to_csv('xgbfinal.csv', index=False)"
   ]
  },
  {
   "cell_type": "code",
   "execution_count": null,
   "metadata": {
    "collapsed": true
   },
   "outputs": [],
   "source": []
  },
  {
   "cell_type": "code",
   "execution_count": 16,
   "metadata": {
    "collapsed": false
   },
   "outputs": [
    {
     "data": {
      "text/plain": [
       "RandomForestRegressor(bootstrap=True, criterion='mse', max_depth=None,\n",
       "           max_features='auto', max_leaf_nodes=None,\n",
       "           min_impurity_decrease=0.0, min_impurity_split=None,\n",
       "           min_samples_leaf=1, min_samples_split=2,\n",
       "           min_weight_fraction_leaf=0.0, n_estimators=40, n_jobs=1,\n",
       "           oob_score=False, random_state=0, verbose=0, warm_start=False)"
      ]
     },
     "execution_count": 16,
     "metadata": {},
     "output_type": "execute_result"
    }
   ],
   "source": [
    "from sklearn.ensemble import RandomForestRegressor #Training Random Forest model\n",
    "\n",
    "reg = RandomForestRegressor(n_estimators = 40, random_state=0)\n",
    "reg.fit(X_train,y_train)"
   ]
  },
  {
   "cell_type": "code",
   "execution_count": 17,
   "metadata": {
    "collapsed": true
   },
   "outputs": [],
   "source": [
    "pred = reg.predict(X_valid) #prediciting on validation data"
   ]
  },
  {
   "cell_type": "code",
   "execution_count": 18,
   "metadata": {
    "collapsed": false
   },
   "outputs": [
    {
     "name": "stdout",
     "output_type": "stream",
     "text": [
      "0.358633725162\n",
      "296.891651848\n",
      "0.79105946764\n"
     ]
    }
   ],
   "source": [
    "print(\"RMSLE =\",rmsle(np.exp(y_valid.values), np.exp(pred)))   #displaying cv scores\n",
    "print(\"RMSE =\",np.sqrt(mean_squared_error(np.exp(y_valid),np.exp(pred))))\n",
    "print(\"r2_score =\",r2_score(np.exp(y_valid), np.exp(pred)))"
   ]
  },
  {
   "cell_type": "code",
   "execution_count": 19,
   "metadata": {
    "collapsed": false
   },
   "outputs": [],
   "source": [
    "pred = np.abs(reg.predict(test))"
   ]
  },
  {
   "cell_type": "code",
   "execution_count": 20,
   "metadata": {
    "collapsed": false
   },
   "outputs": [],
   "source": [
    "submission = pd.DataFrame({'id': ids, 'trip_duration': np.exp(pred)}) #Writing predictions on kaggle test data to disk\n",
    "submission.to_csv('rffinal.csv', index=False)"
   ]
  },
  {
   "cell_type": "code",
   "execution_count": null,
   "metadata": {
    "collapsed": false
   },
   "outputs": [],
   "source": []
  },
  {
   "cell_type": "code",
   "execution_count": null,
   "metadata": {
    "collapsed": true
   },
   "outputs": [],
   "source": []
  }
 ],
 "metadata": {
  "anaconda-cloud": {},
  "kernelspec": {
   "display_name": "Python [conda env:tensorflow_win]",
   "language": "python",
   "name": "conda-env-tensorflow_win-py"
  },
  "language_info": {
   "codemirror_mode": {
    "name": "ipython",
    "version": 3
   },
   "file_extension": ".py",
   "mimetype": "text/x-python",
   "name": "python",
   "nbconvert_exporter": "python",
   "pygments_lexer": "ipython3",
   "version": "3.5.3"
  }
 },
 "nbformat": 4,
 "nbformat_minor": 1
}
