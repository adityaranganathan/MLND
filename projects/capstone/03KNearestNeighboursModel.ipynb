{
 "cells": [
  {
   "cell_type": "code",
   "execution_count": 1,
   "metadata": {
    "collapsed": false
   },
   "outputs": [],
   "source": [
    "from sklearn.neighbors import KNeighborsRegressor\n",
    "from sklearn.model_selection import train_test_split\n",
    "from sklearn.metrics import mean_squared_error\n",
    "from sklearn.metrics import r2_score\n",
    "from sklearn.metrics import make_scorer\n",
    "import pandas as pd\n",
    "import numpy as np\n",
    "import matplotlib.pyplot as plt\n",
    "from sklearn.preprocessing import RobustScaler\n",
    "\n",
    "pd.set_option('display.max_columns', None) \n",
    "plt.rcParams['figure.figsize'] = [16, 10]"
   ]
  },
  {
   "cell_type": "code",
   "execution_count": 2,
   "metadata": {
    "collapsed": true
   },
   "outputs": [],
   "source": [
    "data = pd.read_csv(\"new_train.csv\")"
   ]
  },
  {
   "cell_type": "code",
   "execution_count": 3,
   "metadata": {
    "collapsed": false
   },
   "outputs": [
    {
     "data": {
      "text/html": [
       "<div>\n",
       "<style>\n",
       "    .dataframe thead tr:only-child th {\n",
       "        text-align: right;\n",
       "    }\n",
       "\n",
       "    .dataframe thead th {\n",
       "        text-align: left;\n",
       "    }\n",
       "\n",
       "    .dataframe tbody tr th {\n",
       "        vertical-align: top;\n",
       "    }\n",
       "</style>\n",
       "<table border=\"1\" class=\"dataframe\">\n",
       "  <thead>\n",
       "    <tr style=\"text-align: right;\">\n",
       "      <th></th>\n",
       "      <th>pickup_longitude</th>\n",
       "      <th>pickup_latitude</th>\n",
       "      <th>dropoff_longitude</th>\n",
       "      <th>dropoff_latitude</th>\n",
       "      <th>pickup_month</th>\n",
       "      <th>pickup_dayofweek</th>\n",
       "      <th>pickup_hour</th>\n",
       "      <th>pickup_day</th>\n",
       "      <th>pickup_second</th>\n",
       "      <th>distance</th>\n",
       "    </tr>\n",
       "  </thead>\n",
       "  <tbody>\n",
       "    <tr>\n",
       "      <th>0</th>\n",
       "      <td>-73.982155</td>\n",
       "      <td>40.767937</td>\n",
       "      <td>-73.964630</td>\n",
       "      <td>40.765602</td>\n",
       "      <td>3</td>\n",
       "      <td>0</td>\n",
       "      <td>17</td>\n",
       "      <td>14</td>\n",
       "      <td>6369878.0</td>\n",
       "      <td>1.502172</td>\n",
       "    </tr>\n",
       "    <tr>\n",
       "      <th>1</th>\n",
       "      <td>-73.975090</td>\n",
       "      <td>40.758766</td>\n",
       "      <td>-73.953201</td>\n",
       "      <td>40.765068</td>\n",
       "      <td>3</td>\n",
       "      <td>0</td>\n",
       "      <td>14</td>\n",
       "      <td>14</td>\n",
       "      <td>6357922.0</td>\n",
       "      <td>1.976279</td>\n",
       "    </tr>\n",
       "    <tr>\n",
       "      <th>2</th>\n",
       "      <td>-73.994484</td>\n",
       "      <td>40.745087</td>\n",
       "      <td>-73.998993</td>\n",
       "      <td>40.722710</td>\n",
       "      <td>3</td>\n",
       "      <td>0</td>\n",
       "      <td>15</td>\n",
       "      <td>14</td>\n",
       "      <td>6361461.0</td>\n",
       "      <td>2.513961</td>\n",
       "    </tr>\n",
       "    <tr>\n",
       "      <th>3</th>\n",
       "      <td>-73.944359</td>\n",
       "      <td>40.714489</td>\n",
       "      <td>-73.910530</td>\n",
       "      <td>40.709492</td>\n",
       "      <td>3</td>\n",
       "      <td>0</td>\n",
       "      <td>4</td>\n",
       "      <td>14</td>\n",
       "      <td>6323059.0</td>\n",
       "      <td>2.911908</td>\n",
       "    </tr>\n",
       "    <tr>\n",
       "      <th>4</th>\n",
       "      <td>-73.952881</td>\n",
       "      <td>40.766468</td>\n",
       "      <td>-73.978630</td>\n",
       "      <td>40.761921</td>\n",
       "      <td>3</td>\n",
       "      <td>0</td>\n",
       "      <td>14</td>\n",
       "      <td>14</td>\n",
       "      <td>6361059.0</td>\n",
       "      <td>2.231986</td>\n",
       "    </tr>\n",
       "  </tbody>\n",
       "</table>\n",
       "</div>"
      ],
      "text/plain": [
       "   pickup_longitude  pickup_latitude  dropoff_longitude  dropoff_latitude  \\\n",
       "0        -73.982155        40.767937         -73.964630         40.765602   \n",
       "1        -73.975090        40.758766         -73.953201         40.765068   \n",
       "2        -73.994484        40.745087         -73.998993         40.722710   \n",
       "3        -73.944359        40.714489         -73.910530         40.709492   \n",
       "4        -73.952881        40.766468         -73.978630         40.761921   \n",
       "\n",
       "   pickup_month  pickup_dayofweek  pickup_hour  pickup_day  pickup_second  \\\n",
       "0             3                 0           17          14      6369878.0   \n",
       "1             3                 0           14          14      6357922.0   \n",
       "2             3                 0           15          14      6361461.0   \n",
       "3             3                 0            4          14      6323059.0   \n",
       "4             3                 0           14          14      6361059.0   \n",
       "\n",
       "   distance  \n",
       "0  1.502172  \n",
       "1  1.976279  \n",
       "2  2.513961  \n",
       "3  2.911908  \n",
       "4  2.231986  "
      ]
     },
     "execution_count": 3,
     "metadata": {},
     "output_type": "execute_result"
    }
   ],
   "source": [
    "# Removing features to reduce dimensionality for knn model\n",
    "train = data.drop(['vendor_id','passenger_count', 'fwd_Y', 'fwd_N', 'pickup_cluster','dropoff_cluster','trip_duration', 'log_trip_duration', 'maximum temerature', 'minimum temperature', 'average temperature', 'precipitation', 'snow fall', 'snow depth'],axis=1)\n",
    "train.head()"
   ]
  },
  {
   "cell_type": "code",
   "execution_count": 4,
   "metadata": {
    "collapsed": false
   },
   "outputs": [],
   "source": [
    "#Performing feature scaling\n",
    "\n",
    "scaler = RobustScaler()\n",
    "scaler.fit(train)\n",
    "train_scaled = pd.DataFrame(scaler.transform(train), columns = train.columns)"
   ]
  },
  {
   "cell_type": "code",
   "execution_count": 5,
   "metadata": {
    "collapsed": false
   },
   "outputs": [
    {
     "data": {
      "text/html": [
       "<div>\n",
       "<style>\n",
       "    .dataframe thead tr:only-child th {\n",
       "        text-align: right;\n",
       "    }\n",
       "\n",
       "    .dataframe thead th {\n",
       "        text-align: left;\n",
       "    }\n",
       "\n",
       "    .dataframe tbody tr th {\n",
       "        vertical-align: top;\n",
       "    }\n",
       "</style>\n",
       "<table border=\"1\" class=\"dataframe\">\n",
       "  <thead>\n",
       "    <tr style=\"text-align: right;\">\n",
       "      <th></th>\n",
       "      <th>pickup_longitude</th>\n",
       "      <th>pickup_latitude</th>\n",
       "      <th>dropoff_longitude</th>\n",
       "      <th>dropoff_latitude</th>\n",
       "      <th>pickup_month</th>\n",
       "      <th>pickup_dayofweek</th>\n",
       "      <th>pickup_hour</th>\n",
       "      <th>pickup_day</th>\n",
       "      <th>pickup_second</th>\n",
       "      <th>distance</th>\n",
       "    </tr>\n",
       "  </thead>\n",
       "  <tbody>\n",
       "    <tr>\n",
       "      <th>0</th>\n",
       "      <td>-0.015654</td>\n",
       "      <td>0.448058</td>\n",
       "      <td>0.547750</td>\n",
       "      <td>0.333524</td>\n",
       "      <td>-0.333333</td>\n",
       "      <td>-0.75</td>\n",
       "      <td>0.3</td>\n",
       "      <td>-0.066667</td>\n",
       "      <td>-0.205136</td>\n",
       "      <td>-0.222708</td>\n",
       "    </tr>\n",
       "    <tr>\n",
       "      <th>1</th>\n",
       "      <td>0.274264</td>\n",
       "      <td>0.150754</td>\n",
       "      <td>0.958836</td>\n",
       "      <td>0.317468</td>\n",
       "      <td>-0.333333</td>\n",
       "      <td>-0.75</td>\n",
       "      <td>0.0</td>\n",
       "      <td>-0.066667</td>\n",
       "      <td>-0.206718</td>\n",
       "      <td>-0.036223</td>\n",
       "    </tr>\n",
       "    <tr>\n",
       "      <th>2</th>\n",
       "      <td>-0.521603</td>\n",
       "      <td>-0.292728</td>\n",
       "      <td>-0.688255</td>\n",
       "      <td>-0.956073</td>\n",
       "      <td>-0.333333</td>\n",
       "      <td>-0.75</td>\n",
       "      <td>0.1</td>\n",
       "      <td>-0.066667</td>\n",
       "      <td>-0.206250</td>\n",
       "      <td>0.175270</td>\n",
       "    </tr>\n",
       "    <tr>\n",
       "      <th>3</th>\n",
       "      <td>1.535379</td>\n",
       "      <td>-1.284690</td>\n",
       "      <td>2.493688</td>\n",
       "      <td>-1.353481</td>\n",
       "      <td>-0.333333</td>\n",
       "      <td>-0.75</td>\n",
       "      <td>-1.0</td>\n",
       "      <td>-0.066667</td>\n",
       "      <td>-0.211332</td>\n",
       "      <td>0.331798</td>\n",
       "    </tr>\n",
       "    <tr>\n",
       "      <th>4</th>\n",
       "      <td>1.185661</td>\n",
       "      <td>0.400445</td>\n",
       "      <td>0.044182</td>\n",
       "      <td>0.222847</td>\n",
       "      <td>-0.333333</td>\n",
       "      <td>-0.75</td>\n",
       "      <td>0.0</td>\n",
       "      <td>-0.066667</td>\n",
       "      <td>-0.206303</td>\n",
       "      <td>0.064358</td>\n",
       "    </tr>\n",
       "  </tbody>\n",
       "</table>\n",
       "</div>"
      ],
      "text/plain": [
       "   pickup_longitude  pickup_latitude  dropoff_longitude  dropoff_latitude  \\\n",
       "0         -0.015654         0.448058           0.547750          0.333524   \n",
       "1          0.274264         0.150754           0.958836          0.317468   \n",
       "2         -0.521603        -0.292728          -0.688255         -0.956073   \n",
       "3          1.535379        -1.284690           2.493688         -1.353481   \n",
       "4          1.185661         0.400445           0.044182          0.222847   \n",
       "\n",
       "   pickup_month  pickup_dayofweek  pickup_hour  pickup_day  pickup_second  \\\n",
       "0     -0.333333             -0.75          0.3   -0.066667      -0.205136   \n",
       "1     -0.333333             -0.75          0.0   -0.066667      -0.206718   \n",
       "2     -0.333333             -0.75          0.1   -0.066667      -0.206250   \n",
       "3     -0.333333             -0.75         -1.0   -0.066667      -0.211332   \n",
       "4     -0.333333             -0.75          0.0   -0.066667      -0.206303   \n",
       "\n",
       "   distance  \n",
       "0 -0.222708  \n",
       "1 -0.036223  \n",
       "2  0.175270  \n",
       "3  0.331798  \n",
       "4  0.064358  "
      ]
     },
     "execution_count": 5,
     "metadata": {},
     "output_type": "execute_result"
    }
   ],
   "source": [
    "train_scaled.head()"
   ]
  },
  {
   "cell_type": "code",
   "execution_count": 6,
   "metadata": {
    "collapsed": true
   },
   "outputs": [],
   "source": [
    "def rmsle(real, predicted): #calculating Rmsle\n",
    "    sum=0.0\n",
    "    for x in range(len(predicted)):\n",
    "        p = np.log(predicted[x]+1)\n",
    "        r = np.log(real[x]+1)\n",
    "        sum = sum + (p - r)**2\n",
    "    return (sum/len(predicted))**0.5"
   ]
  },
  {
   "cell_type": "code",
   "execution_count": 7,
   "metadata": {
    "collapsed": false
   },
   "outputs": [],
   "source": [
    "X_train, X_valid, y_train, y_valid = train_test_split(train_scaled, data['log_trip_duration'], test_size=0.2, random_state=43)"
   ]
  },
  {
   "cell_type": "code",
   "execution_count": 8,
   "metadata": {
    "collapsed": false
   },
   "outputs": [
    {
     "data": {
      "text/plain": [
       "KNeighborsRegressor(algorithm='auto', leaf_size=30, metric='minkowski',\n",
       "          metric_params=None, n_jobs=1, n_neighbors=10, p=2,\n",
       "          weights='distance')"
      ]
     },
     "execution_count": 8,
     "metadata": {},
     "output_type": "execute_result"
    }
   ],
   "source": [
    "knn_model = KNeighborsRegressor(n_neighbors=10,weights='distance') #training KNN model\n",
    "knn_model.fit(X_train, y_train)"
   ]
  },
  {
   "cell_type": "code",
   "execution_count": 9,
   "metadata": {
    "collapsed": true
   },
   "outputs": [],
   "source": [
    "pred = knn_model.predict(X_valid) #Prediction"
   ]
  },
  {
   "cell_type": "code",
   "execution_count": 10,
   "metadata": {
    "collapsed": false
   },
   "outputs": [
    {
     "name": "stdout",
     "output_type": "stream",
     "text": [
      "Rmsle =  0.391675460232\n",
      "Rmse =  315.133671756\n",
      "r2_score =  0.764594641677\n"
     ]
    }
   ],
   "source": [
    "pred = np.abs(pred) #calculating cv scores\n",
    "\n",
    "print(\"Rmsle = \",rmsle(np.exp(y_valid.values), np.exp(pred)))\n",
    "print(\"Rmse = \",np.sqrt(mean_squared_error(np.exp(y_valid),np.exp(pred))))\n",
    "print(\"r2_score = \",r2_score(np.exp(y_valid), np.exp(pred)))"
   ]
  },
  {
   "cell_type": "code",
   "execution_count": 11,
   "metadata": {
    "collapsed": false
   },
   "outputs": [
    {
     "data": {
      "image/png": "[encoded data removed]",
      "text/plain": [
       "<matplotlib.figure.Figure at 0x4e45118860>"
      ]
     },
     "metadata": {},
     "output_type": "display_data"
    }
   ],
   "source": [
    "a = 1           #Visualising difference in predicted and actual values\n",
    "b = 50\n",
    "plt.plot(range(a, b),pred[a:b], c = 'r' , alpha=0.5)\n",
    "plt.plot(range(a, b), y_valid[a:b], c = 'b', alpha = 0.5)\n",
    "plt.show()"
   ]
  },
  {
   "cell_type": "code",
   "execution_count": 12,
   "metadata": {
    "collapsed": true
   },
   "outputs": [],
   "source": [
    "testd  = pd.read_csv(\"new_test.csv\") #loading Kaggle test data\n",
    "ids = testd['id']\n",
    "test_scaled = scaler.transform(testd.drop(['id','vendor_id','passenger_count', 'fwd_Y', 'fwd_N', 'pickup_cluster','dropoff_cluster','maximum temerature', 'minimum temperature', 'average temperature', 'precipitation', 'snow fall', 'snow depth'], axis=1))"
   ]
  },
  {
   "cell_type": "code",
   "execution_count": 13,
   "metadata": {
    "collapsed": true
   },
   "outputs": [],
   "source": [
    "predt = knn_model.predict(test_scaled)"
   ]
  },
  {
   "cell_type": "code",
   "execution_count": 15,
   "metadata": {
    "collapsed": false
   },
   "outputs": [],
   "source": [
    "submission = pd.DataFrame({'id': ids, 'trip_duration': np.exp(predt)})  #Writing predictions on kaggle test data to file\n",
    "submission.to_csv('knnfinal.csv', index=False)"
   ]
  },
  {
   "cell_type": "code",
   "execution_count": null,
   "metadata": {
    "collapsed": true
   },
   "outputs": [],
   "source": []
  }
 ],
 "metadata": {
  "anaconda-cloud": {},
  "kernelspec": {
   "display_name": "Python [conda env:tensorflow_win]",
   "language": "python",
   "name": "conda-env-tensorflow_win-py"
  },
  "language_info": {
   "codemirror_mode": {
    "name": "ipython",
    "version": 3
   },
   "file_extension": ".py",
   "mimetype": "text/x-python",
   "name": "python",
   "nbconvert_exporter": "python",
   "pygments_lexer": "ipython3",
   "version": "3.5.3"
  }
 },
 "nbformat": 4,
 "nbformat_minor": 1
}
